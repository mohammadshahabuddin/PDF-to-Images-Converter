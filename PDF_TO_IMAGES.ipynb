{
  "nbformat": 4,
  "nbformat_minor": 0,
  "metadata": {
    "colab": {
      "provenance": []
    },
    "kernelspec": {
      "name": "python3",
      "display_name": "Python 3"
    },
    "language_info": {
      "name": "python"
    }
  },
  "cells": [
    {
      "cell_type": "code",
      "execution_count": null,
      "metadata": {
        "colab": {
          "base_uri": "https://localhost:8080/"
        },
        "id": "pgtZs2P-Om4L",
        "outputId": "9a976738-74fd-4b33-d2e5-07bc52ab2146"
      },
      "outputs": [
        {
          "output_type": "stream",
          "name": "stdout",
          "text": [
            "Requirement already satisfied: pdf2image in /usr/local/lib/python3.10/dist-packages (1.17.0)\n",
            "Requirement already satisfied: pillow in /usr/local/lib/python3.10/dist-packages (from pdf2image) (9.4.0)\n"
          ]
        }
      ],
      "source": [
        "!pip install pdf2image"
      ]
    },
    {
      "cell_type": "code",
      "source": [
        "!sudo apt-get install poppler-utils\n"
      ],
      "metadata": {
        "colab": {
          "base_uri": "https://localhost:8080/"
        },
        "id": "78oiIq8sQJOr",
        "outputId": "9f798022-3bfb-4ff2-cd04-02f3d09931ca"
      },
      "execution_count": null,
      "outputs": [
        {
          "output_type": "stream",
          "name": "stdout",
          "text": [
            "Reading package lists... Done\n",
            "Building dependency tree... Done\n",
            "Reading state information... Done\n",
            "poppler-utils is already the newest version (22.02.0-2ubuntu0.5).\n",
            "0 upgraded, 0 newly installed, 0 to remove and 45 not upgraded.\n"
          ]
        }
      ]
    },
    {
      "cell_type": "code",
      "source": [
        "from pdf2image import convert_from_path\n",
        "import os\n",
        "\n",
        "def pdf_to_images(pdf_path, output_folder):\n",
        "    # Convert PDF to images\n",
        "    images = convert_from_path(pdf_path)\n",
        "\n",
        "    # Ensure output directory exists\n",
        "    os.makedirs(output_folder, exist_ok=True)\n",
        "\n",
        "    for i, image in enumerate(images):\n",
        "        # Save each page as a PNG image\n",
        "        image_path = os.path.join(output_folder, f'C_page_{i+1}.png')\n",
        "        image.save(image_path, 'PNG')\n",
        "        print(f'Saved: {image_path}')\n",
        "\n",
        "if __name__ == \"__main__\":\n",
        "    pdf_path = 'C.pdf'  # Replace with your PDF file path\n",
        "    output_folder = 'output_images'  # Replace with your desired output directory\n",
        "\n",
        "    pdf_to_images(pdf_path, output_folder)"
      ],
      "metadata": {
        "colab": {
          "base_uri": "https://localhost:8080/"
        },
        "id": "6_bwGAylO3qm",
        "outputId": "223929db-7ad8-485c-85d6-ee958b26fd3f"
      },
      "execution_count": null,
      "outputs": [
        {
          "output_type": "stream",
          "name": "stdout",
          "text": [
            "Saved: output_images/C_page_1.png\n",
            "Saved: output_images/C_page_2.png\n"
          ]
        }
      ]
    }
  ]
}